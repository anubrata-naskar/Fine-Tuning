{
 "cells": [
  {
   "cell_type": "code",
   "execution_count": null,
   "metadata": {
    "_cell_guid": "b1076dfc-b9ad-4769-8c92-a6c4dae69d19",
    "_uuid": "8f2839f25d086af736a60e9eeb907d3b93b6e0e5",
    "trusted": true
   },
   "outputs": [],
   "source": [
    "# Install packages with specific versions to avoid conflicts\n",
    "!pip install --no-deps unsloth\n",
    "!pip install --upgrade --no-deps transformers==4.44.0\n",
    "!pip install --upgrade trl==0.9.6\n",
    "!pip install --upgrade torch==2.4.0 torchvision==0.19.0 torchaudio==2.4.0\n",
    "!pip install --upgrade bitsandbytes xformers\n",
    "\n",
    "# Verify installations\n",
    "import sys\n",
    "print(f\"Python version: {sys.version}\")\n",
    "\n",
    "try:\n",
    "    import torch\n",
    "    print(f\"PyTorch version: {torch.__version__}\")\n",
    "    print(f\"CUDA available: {torch.cuda.is_available()}\")\n",
    "    if torch.cuda.is_available():\n",
    "        print(f\"CUDA version: {torch.version.cuda}\")\n",
    "except ImportError as e:\n",
    "    print(f\"PyTorch import error: {e}\")\n",
    "\n",
    "try:\n",
    "    import transformers\n",
    "    print(f\"Transformers version: {transformers.__version__}\")\n",
    "except ImportError as e:\n",
    "    print(f\"Transformers import error: {e}\")\n",
    "\n",
    "try:\n",
    "    import trl\n",
    "    print(f\"TRL version: {trl.__version__}\")\n",
    "except ImportError as e:\n",
    "    print(f\"TRL import error: {e}\")\n",
    "\n",
    "try:\n",
    "    import unsloth\n",
    "    print(f\"Unsloth imported successfully\")\n",
    "except ImportError as e:\n",
    "    print(f\"Unsloth import error: {e}\")"
   ]
  },
  {
   "cell_type": "code",
   "execution_count": null,
   "metadata": {
    "trusted": true
   },
   "outputs": [],
   "source": [
    "import torch\n",
    "from unsloth import FastLanguageModel\n",
    "from datasets import load_dataset\n",
    "from trl import SFTTrainer\n",
    "from transformers import TrainingArguments\n",
    "from unsloth.chat_templates import get_chat_template, standardize_sharegpt\n"
   ]
  },
  {
   "cell_type": "code",
   "execution_count": null,
   "metadata": {},
   "outputs": [],
   "source": [
    "# Workaround for Triton compiler issues\n",
    "import os\n",
    "os.environ[\"TRITON_INTERPRET\"] = \"1\"  # Use interpreter instead of compiler\n",
    "os.environ[\"TRITON_KERNEL_CACHE\"] = \"0\"  # Disable kernel caching\n",
    "os.environ[\"UNSLOTH_IS_PRESENT\"] = \"False\"  # Disable Unsloth optimizations\n",
    "os.environ[\"DISABLE_UNSLOTH\"] = \"1\"  # Force disable Unsloth features\n",
    "\n",
    "# Alternative: Use standard transformers if Unsloth fails\n",
    "print(\"🔧 Setting up fallback to standard transformers training...\")"
   ]
  },
  {
   "cell_type": "code",
   "execution_count": null,
   "metadata": {
    "trusted": true
   },
   "outputs": [],
   "source": [
    "model, tokenizer = FastLanguageModel.from_pretrained(\n",
    "    model_name = \"unsloth/Llama-3.2-3B-Instruct\",\n",
    "    max_seq_length=2048,\n",
    "    load_in_4bit=True,\n",
    "    device_map=\"auto\",  # Add explicit device mapping\n",
    ")"
   ]
  },
  {
   "cell_type": "code",
   "execution_count": null,
   "metadata": {
    "trusted": true
   },
   "outputs": [],
   "source": [
    "model = FastLanguageModel.get_peft_model(\n",
    "    model, r=16,\n",
    "    target_modules = [\"q_proj\",\"k_proj\",\"v_proj\",\"o_proj\",\"gate_proj\",\"up_proj\",\"down_proj\"]\n",
    "    \n",
    ")"
   ]
  },
  {
   "cell_type": "code",
   "execution_count": null,
   "metadata": {
    "trusted": true
   },
   "outputs": [],
   "source": [
    "tokenizer = get_chat_template(tokenizer, chat_template=\"llama-3.1\")"
   ]
  },
  {
   "cell_type": "code",
   "execution_count": null,
   "metadata": {
    "trusted": true
   },
   "outputs": [],
   "source": [
    "dataset = load_dataset(\"mlabonne/FineTome-100k\", split=\"train\")"
   ]
  },
  {
   "cell_type": "code",
   "execution_count": null,
   "metadata": {},
   "outputs": [],
   "source": [
    "# Custom callback to monitor training progress\n",
    "from transformers import TrainerCallback\n",
    "import time\n",
    "\n",
    "class ProgressCallback(TrainerCallback):\n",
    "    def __init__(self):\n",
    "        self.start_time = None\n",
    "        \n",
    "    def on_train_begin(self, args, state, control, **kwargs):\n",
    "        self.start_time = time.time()\n",
    "        print(\"🔥 Training started!\")\n",
    "        \n",
    "    def on_log(self, args, state, control, logs=None, **kwargs):\n",
    "        if logs:\n",
    "            elapsed = time.time() - self.start_time\n",
    "            step = state.global_step\n",
    "            total_steps = state.max_steps\n",
    "            \n",
    "            loss = logs.get('train_loss', 'N/A')\n",
    "            lr = logs.get('learning_rate', 'N/A')\n",
    "            \n",
    "            print(f\"📊 Step {step}/{total_steps} | Loss: {loss:.4f} | LR: {lr:.2e} | Time: {elapsed:.1f}s\")\n",
    "            \n",
    "            if torch.cuda.is_available():\n",
    "                gpu_mem = torch.cuda.memory_allocated() / 1024**3\n",
    "                print(f\"   GPU Memory: {gpu_mem:.2f} GB\")\n",
    "    \n",
    "    def on_train_end(self, args, state, control, **kwargs):\n",
    "        total_time = time.time() - self.start_time\n",
    "        print(f\"🎉 Training completed in {total_time:.1f} seconds!\")\n",
    "\n",
    "# Create callback instance\n",
    "progress_callback = ProgressCallback()"
   ]
  },
  {
   "cell_type": "code",
   "execution_count": null,
   "metadata": {
    "trusted": true
   },
   "outputs": [],
   "source": [
    "dataset = standardize_sharegpt(dataset)"
   ]
  },
  {
   "cell_type": "code",
   "execution_count": null,
   "metadata": {
    "trusted": true
   },
   "outputs": [],
   "source": [
    "# Tokenize the dataset properly for standard training\n",
    "def tokenize_function(examples):\n",
    "    # Tokenize the text and add labels\n",
    "    tokenized = tokenizer(\n",
    "        examples[\"text\"],\n",
    "        truncation=True,\n",
    "        padding=False,\n",
    "        max_length=2048,\n",
    "        return_tensors=None\n",
    "    )\n",
    "    # For causal LM, labels are the same as input_ids\n",
    "    tokenized[\"labels\"] = tokenized[\"input_ids\"].copy()\n",
    "    return tokenized\n",
    "\n",
    "# Apply tokenization\n",
    "print(\"🔄 Tokenizing dataset...\")\n",
    "dataset = dataset.map(\n",
    "    tokenize_function,\n",
    "    batched=True,\n",
    "    remove_columns=dataset.column_names,  # Remove original columns\n",
    "    desc=\"Tokenizing dataset\"\n",
    ")\n",
    "\n",
    "print(f\"✅ Dataset tokenized. Sample count: {len(dataset)}\")\n",
    "print(f\"✅ Sample keys: {dataset[0].keys()}\")"
   ]
  },
  {
   "cell_type": "code",
   "execution_count": null,
   "metadata": {
    "trusted": true
   },
   "outputs": [],
   "source": [
    "# Ensure model is on GPU before creating trainer\n",
    "if torch.cuda.is_available():\n",
    "    model = model.cuda()\n",
    "    print(f\"✅ Model moved to GPU: {next(model.parameters()).device}\")\n",
    "else:\n",
    "    print(\"❌ GPU not available\")\n",
    "\n",
    "# FALLBACK: Use standard Transformers Trainer instead of SFTTrainer\n",
    "from transformers import Trainer, DataCollatorForLanguageModeling\n",
    "\n",
    "# Create data collator\n",
    "data_collator = DataCollatorForLanguageModeling(\n",
    "    tokenizer=tokenizer,\n",
    "    mlm=False,  # We're doing causal LM, not masked LM\n",
    ")\n",
    "\n",
    "# Create standard trainer (no Unsloth optimizations)\n",
    "trainer = Trainer(\n",
    "    model=model,\n",
    "    train_dataset=dataset,\n",
    "    data_collator=data_collator,\n",
    "    callbacks=[progress_callback],\n",
    "    args=TrainingArguments(\n",
    "        per_device_train_batch_size=1,  # Smaller batch size for safety\n",
    "        gradient_accumulation_steps=8,  # Compensate with more accumulation\n",
    "        warmup_steps=5,\n",
    "        max_steps=60,\n",
    "        learning_rate=2e-4,\n",
    "        # Use FP32 to avoid any precision issues\n",
    "        fp16=False,\n",
    "        bf16=False,\n",
    "        logging_steps=1,\n",
    "        logging_strategy=\"steps\",\n",
    "        output_dir=\"outputs\",\n",
    "        dataloader_pin_memory=False,\n",
    "        remove_unused_columns=False,\n",
    "        report_to=[],\n",
    "        save_strategy=\"no\",  # Don't save checkpoints during training\n",
    "        evaluation_strategy=\"no\",  # No evaluation\n",
    "    ),\n",
    ")\n",
    "\n",
    "print(\"✅ Standard Trainer created (fallback mode - no Unsloth optimizations)\")"
   ]
  },
  {
   "cell_type": "code",
   "execution_count": null,
   "metadata": {},
   "outputs": [],
   "source": [
    "# Check CUDA availability and device status\n",
    "print(f\"CUDA available: {torch.cuda.is_available()}\")\n",
    "print(f\"CUDA device count: {torch.cuda.device_count()}\")\n",
    "if torch.cuda.is_available():\n",
    "    print(f\"Current device: {torch.cuda.current_device()}\")\n",
    "    print(f\"Device name: {torch.cuda.get_device_name()}\")\n",
    "    print(f\"Memory allocated: {torch.cuda.memory_allocated() / 1024**3:.2f} GB\")\n",
    "    print(f\"Memory cached: {torch.cuda.memory_reserved() / 1024**3:.2f} GB\")\n",
    "\n",
    "# Check if model is on GPU\n",
    "print(f\"Model device: {next(model.parameters()).device}\")\n",
    "print(f\"Model dtype: {next(model.parameters()).dtype}\")\n",
    "\n",
    "# Kaggle GPU and environment diagnostics\n",
    "import os\n",
    "print(\"=== Kaggle Environment Check ===\")\n",
    "print(f\"Kaggle environment: {'KAGGLE_URL_BASE' in os.environ}\")\n",
    "print(f\"GPU enabled: {torch.cuda.is_available()}\")\n",
    "\n",
    "if torch.cuda.is_available():\n",
    "    print(f\"GPU count: {torch.cuda.device_count()}\")\n",
    "    print(f\"GPU name: {torch.cuda.get_device_name(0)}\")\n",
    "    print(f\"Total GPU memory: {torch.cuda.get_device_properties(0).total_memory / 1024**3:.1f} GB\")\n",
    "    print(f\"CUDA version: {torch.version.cuda}\")\n",
    "    \n",
    "    # Clear cache for fresh start\n",
    "    torch.cuda.empty_cache()\n",
    "    print(\"GPU cache cleared\")\n",
    "\n",
    "# Check model device and memory\n",
    "print(f\"\\nModel device: {next(model.parameters()).device}\")\n",
    "print(f\"Model dtype: {next(model.parameters()).dtype}\")\n",
    "\n",
    "if torch.cuda.is_available():\n",
    "    print(f\"GPU memory allocated: {torch.cuda.memory_allocated() / 1024**3:.2f} GB\")\n",
    "    print(f\"GPU memory reserved: {torch.cuda.memory_reserved() / 1024**3:.2f} GB\")\n",
    "\n",
    "# CRITICAL: Check Kaggle GPU Setup\n",
    "print(\"🔍 KAGGLE GPU DIAGNOSTICS\")\n",
    "print(\"=\" * 50)\n",
    "\n",
    "# Check if we're in Kaggle\n",
    "is_kaggle = 'KAGGLE_URL_BASE' in os.environ\n",
    "print(f\"Running in Kaggle: {is_kaggle}\")\n",
    "\n",
    "# Check CUDA\n",
    "cuda_available = torch.cuda.is_available()\n",
    "print(f\"CUDA available: {cuda_available}\")\n",
    "\n",
    "if not cuda_available:\n",
    "    print(\"❌ GPU NOT DETECTED!\")\n",
    "    print(\"🔧 SOLUTION: Go to Kaggle Settings → Accelerator → Select 'GPU T4 x2'\")\n",
    "    print(\"Then restart the notebook!\")\n",
    "else:\n",
    "    print(\"✅ GPU detected!\")\n",
    "    print(f\"GPU count: {torch.cuda.device_count()}\")\n",
    "    print(f\"GPU name: {torch.cuda.get_device_name(0)}\")\n",
    "    print(f\"Total GPU memory: {torch.cuda.get_device_properties(0).total_memory / 1024**3:.1f} GB\")\n",
    "    print(f\"CUDA version: {torch.version.cuda}\")\n",
    "    \n",
    "    # Clear GPU cache\n",
    "    torch.cuda.empty_cache()\n",
    "    print(\"GPU cache cleared\")\n",
    "    \n",
    "    # Check current GPU memory\n",
    "    print(f\"GPU memory allocated: {torch.cuda.memory_allocated() / 1024**3:.2f} GB\")\n",
    "    print(f\"GPU memory reserved: {torch.cuda.memory_reserved() / 1024**3:.2f} GB\")\n",
    "\n",
    "# Check model location\n",
    "try:\n",
    "    model_device = next(model.parameters()).device\n",
    "    print(f\"Model device: {model_device}\")\n",
    "    \n",
    "    if str(model_device) == 'cpu' and cuda_available:\n",
    "        print(\"⚠️  Model is on CPU but GPU is available - will fix this!\")\n",
    "    elif str(model_device).startswith('cuda'):\n",
    "        print(\"✅ Model is properly on GPU\")\n",
    "except:\n",
    "    print(\"❌ Model not loaded yet\")\n",
    "\n",
    "print(\"=\" * 50)"
   ]
  },
  {
   "cell_type": "code",
   "execution_count": null,
   "metadata": {},
   "outputs": [],
   "source": [
    "# Force model to GPU if available\n",
    "if torch.cuda.is_available():\n",
    "    model = model.cuda()\n",
    "    print(\"Model moved to GPU\")\n",
    "else:\n",
    "    print(\"CUDA not available - running on CPU\")"
   ]
  },
  {
   "cell_type": "code",
   "execution_count": null,
   "metadata": {
    "trusted": true
   },
   "outputs": [],
   "source": [
    "# Start training with progress monitoring\n",
    "print(\"🚀 Starting training...\")\n",
    "print(\"=\" * 50)\n",
    "\n",
    "# Enable verbose logging\n",
    "import logging\n",
    "logging.basicConfig(level=logging.INFO)\n",
    "\n",
    "# Monitor GPU before training\n",
    "if torch.cuda.is_available():\n",
    "    print(f\"📊 Pre-training GPU memory: {torch.cuda.memory_allocated() / 1024**3:.2f} GB\")\n",
    "\n",
    "# Start training\n",
    "trainer_stats = trainer.train()\n",
    "\n",
    "print(\"=\" * 50)\n",
    "print(\"✅ Training completed!\")\n",
    "print(f\"📈 Final training loss: {trainer_stats.training_loss:.4f}\")\n",
    "\n",
    "# Monitor GPU after training\n",
    "if torch.cuda.is_available():\n",
    "    print(f\"📊 Post-training GPU memory: {torch.cuda.memory_allocated() / 1024**3:.2f} GB\")"
   ]
  },
  {
   "cell_type": "code",
   "execution_count": null,
   "metadata": {
    "trusted": true
   },
   "outputs": [],
   "source": [
    "model.save_pretrained(\"finetunned_model\")"
   ]
  }
 ],
 "metadata": {
  "kaggle": {
   "accelerator": "none",
   "dataSources": [],
   "isGpuEnabled": false,
   "isInternetEnabled": true,
   "language": "python",
   "sourceType": "notebook"
  },
  "kernelspec": {
   "display_name": "Python 3",
   "language": "python",
   "name": "python3"
  },
  "language_info": {
   "codemirror_mode": {
    "name": "ipython",
    "version": 3
   },
   "file_extension": ".py",
   "mimetype": "text/x-python",
   "name": "python",
   "nbconvert_exporter": "python",
   "pygments_lexer": "ipython3",
   "version": "3.6.4"
  }
 },
 "nbformat": 4,
 "nbformat_minor": 4
}
